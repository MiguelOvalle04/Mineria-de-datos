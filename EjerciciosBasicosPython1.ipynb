{
 "cells": [
  {
   "cell_type": "markdown",
   "metadata": {},
   "source": [
    "- Programa 1 Hola mundo"
   ]
  },
  {
   "cell_type": "code",
   "execution_count": 1,
   "metadata": {},
   "outputs": [
    {
     "name": "stdout",
     "output_type": "stream",
     "text": [
      "Hola mundo!!\n"
     ]
    }
   ],
   "source": [
    "print(\"Hola mundo!!\")"
   ]
  },
  {
   "cell_type": "markdown",
   "metadata": {},
   "source": [
    "### Ejercicio 1: \n",
    "\n",
    "Realiza una variable con tu matricula y realiza una secuencia de imprimir con tu nombre y tu matricula concatenados."
   ]
  },
  {
   "cell_type": "code",
   "execution_count": 5,
   "metadata": {},
   "outputs": [
    {
     "name": "stdout",
     "output_type": "stream",
     "text": [
      "Miguel Eduardo Ovalle Blanco 1801990\n"
     ]
    }
   ],
   "source": [
    "matricula=1801990\n",
    "nombre= \"Miguel Eduardo Ovalle Blanco\"\n",
    "print(nombre+\" \"+str(matricula))"
   ]
  },
  {
   "cell_type": "markdown",
   "metadata": {},
   "source": [
    "- Programa 2: Matemáticas sencillas"
   ]
  },
  {
   "cell_type": "code",
   "execution_count": 4,
   "metadata": {},
   "outputs": [
    {
     "name": "stdout",
     "output_type": "stream",
     "text": [
      "10 54 2926\n"
     ]
    },
    {
     "data": {
      "text/plain": [
       "2926"
      ]
     },
     "execution_count": 4,
     "metadata": {},
     "output_type": "execute_result"
    }
   ],
   "source": [
    "a = 10\n",
    "b = 54\n",
    "\n",
    "c = a + b**2\n",
    "print (a, b, c)"
   ]
  },
  {
   "cell_type": "markdown",
   "metadata": {},
   "source": [
    "Input del usuario:"
   ]
  },
  {
   "cell_type": "code",
   "execution_count": 5,
   "metadata": {},
   "outputs": [
    {
     "name": "stdout",
     "output_type": "stream",
     "text": [
      "Introduce un número:45\n",
      "Introduce otro número: 34\n",
      "Primer número:  45\n",
      "Segundo número:  34\n"
     ]
    }
   ],
   "source": [
    "a1 = int(input(\"Introduce un número:\" ))\n",
    "b1 = int(input(\"Introduce otro número: \"))\n",
    "\n",
    "print (\"Primer número: \", a1)\n",
    "print(\"Segundo número: \", b1)"
   ]
  },
  {
   "cell_type": "markdown",
   "metadata": {},
   "source": [
    "### Ejercicio 2:\n",
    "\n",
    "Pidiendo el input del usuario pide dos números y crea una pequeña calculadora con los operadores básicos de suma, resta, multiplicación, división, y exponente."
   ]
  },
  {
   "cell_type": "code",
   "execution_count": 14,
   "metadata": {},
   "outputs": [
    {
     "name": "stdout",
     "output_type": "stream",
     "text": [
      "Ingrese el primer número: 6\n",
      "Ingrese el segundo número: 5\n",
      "Ingrese la opción que desea: \n",
      " 1.-Sumar\n",
      " 2.-Restar\n",
      " 3.-Multiplicación\n",
      " 4.-División\n",
      " 5.-Exponente\n",
      " 0.-Salir\n",
      "0\n",
      "Fin de la calduladora\n"
     ]
    }
   ],
   "source": [
    "a=int(input(\"Ingrese el primer número: \"))\n",
    "b=int(input(\"Ingrese el segundo número: \"))\n",
    "i=1\n",
    "while i!=0:\n",
    "    i=int(input(\"Ingrese la opción que desea: \\n 1.-Sumar\\n 2.-Restar\\n 3.-Multiplicación\\n 4.-División\\n 5.-Exponente\\n 0.-Salir\\n\"))\n",
    "    if i == 1:\n",
    "        print(\"La suma de %d y %d es igual a %d\"%(a,b,a+b))\n",
    "    elif i== 2:\n",
    "        print(\"La resta de %d y %d es igual a %d\"%(a,b,a-b))\n",
    "    elif i== 3:\n",
    "        print(\"La multiplicación de %d y %d es igual a %d\"%(a,b,a*b))\n",
    "    elif i== 4:\n",
    "        try:\n",
    "            print(\"La división de %d y %d es igual a %f\"%(a,b,a/b))\n",
    "        except:\n",
    "            print(\"No se puede realizar la división\")\n",
    "    elif i== 5:\n",
    "        print(\"La exponenciacion de %d en %d es igual a %d\"%(a,b,a**b))\n",
    "    elif i==0:\n",
    "        print(\"Fin de la calculadora\")\n",
    "    else:\n",
    "        print(\"No se seleccionó una opción válida\")"
   ]
  },
  {
   "cell_type": "markdown",
   "metadata": {},
   "source": [
    "Utilizando el loop de while"
   ]
  },
  {
   "cell_type": "code",
   "execution_count": null,
   "metadata": {},
   "outputs": [],
   "source": [
    "i=1\n",
    "while i <= 10:\n",
    "    print (i)\n",
    "    i=i+1\n",
    "    \n",
    "#i =+1"
   ]
  },
  {
   "cell_type": "markdown",
   "metadata": {},
   "source": [
    "Utilizando la función de range:"
   ]
  },
  {
   "cell_type": "code",
   "execution_count": null,
   "metadata": {},
   "outputs": [],
   "source": [
    "print (\"range(10) --> \", list(range(10)))\n",
    "print (\"range(0,20) --> \", list(range(0,20)))\n",
    "print (\"range(10,20) --> \", list(range(10,20)))\n",
    "print (\"range(0,20,2) --> \", list(range(0,20,2)))\n",
    "print (\"range(-10,-20,2) --> \", list(range(-10,-20,2)))\n",
    "print (\"range(-10,-20,-2) --> \", list(range(-10,-20,-2)))"
   ]
  },
  {
   "cell_type": "markdown",
   "metadata": {},
   "source": [
    "Utilizando la función de range en el loop de for:"
   ]
  },
  {
   "cell_type": "code",
   "execution_count": null,
   "metadata": {},
   "outputs": [],
   "source": [
    "for i in range(0,10):\n",
    "    print (i)"
   ]
  },
  {
   "cell_type": "code",
   "execution_count": 9,
   "metadata": {},
   "outputs": [
    {
     "name": "stdout",
     "output_type": "stream",
     "text": [
      "5  *  1  =  5\n",
      "5  *  2  =  10\n",
      "5  *  3  =  15\n",
      "5  *  4  =  20\n",
      "5  *  5  =  25\n",
      "5  *  6  =  30\n",
      "5  *  7  =  35\n",
      "5  *  8  =  40\n",
      "5  *  9  =  45\n",
      "5  *  10  =  50\n"
     ]
    }
   ],
   "source": [
    "for i in range(1,11):\n",
    "    print (5,\" * \", i , \" = \", i * 5)"
   ]
  },
  {
   "cell_type": "markdown",
   "metadata": {},
   "source": [
    "### Ejercicio 3: \n",
    "\n",
    "Con loop while o for, realiza una lista de 10 numeros multiplos de 3, y después realiza una función de loop que sume todos los números dentro del arreglo."
   ]
  },
  {
   "cell_type": "code",
   "execution_count": 29,
   "metadata": {},
   "outputs": [
    {
     "name": "stdout",
     "output_type": "stream",
     "text": [
      "La suma de los elementos del arreglo es 195\n"
     ]
    }
   ],
   "source": [
    "multiplos=[]\n",
    "for i in range (2,12):\n",
    "    multiplos.append(i*3)\n",
    "suma=0\n",
    "for i in range(0,10):\n",
    "    suma=suma+multiplos[i]\n",
    "print(\"La suma de los elementos del arreglo es %d\"%(suma))"
   ]
  },
  {
   "cell_type": "code",
   "execution_count": 10,
   "metadata": {},
   "outputs": [
    {
     "name": "stdout",
     "output_type": "stream",
     "text": [
      "Introduce primer número: 32\n",
      "Introduce segundo número: 56\n",
      "32  <  56\n"
     ]
    }
   ],
   "source": [
    "a = int(input(\"Introduce primer número: \"))\n",
    "b = int(input(\"Introduce segundo número: \"))\n",
    "if  a > b: \n",
    "    print (a,\" > \",b)\n",
    "else:\n",
    "    print (a,\" < \",b)"
   ]
  },
  {
   "cell_type": "markdown",
   "metadata": {},
   "source": [
    "### Ejercicio 4\n",
    "\n",
    "- Con una función de if else, revisar si un número es par o es impar.\n",
    "- Con una función de if else, revisar si un número es primo o no."
   ]
  },
  {
   "cell_type": "code",
   "execution_count": 33,
   "metadata": {},
   "outputs": [
    {
     "name": "stdout",
     "output_type": "stream",
     "text": [
      "Ingrese un número: 17\n",
      "El número 17 es impar\n",
      "El número 17 es primo\n"
     ]
    }
   ],
   "source": [
    "a=int(input(\"Ingrese un número: \"))\n",
    "if a%2 == 0:\n",
    "    print(\"El número %d es par\"%(a))\n",
    "else:\n",
    "    print(\"El número %d es impar\"%(a))\n",
    "\n",
    "if a>=2:\n",
    "    divisores=0\n",
    "    for i in range(1,a+1):\n",
    "        if a%i ==0:\n",
    "            divisores=divisores+1\n",
    "    if divisores == 2:\n",
    "        print(\"El número %d es primo\"%(a))\n",
    "    else:\n",
    "        print(\"El número %d es no es primo\"%(a))\n",
    "else:\n",
    "    print(\"El número %d no es primo\"%(a))"
   ]
  },
  {
   "cell_type": "markdown",
   "metadata": {},
   "source": [
    "Uso de funciones en python:"
   ]
  },
  {
   "cell_type": "code",
   "execution_count": 12,
   "metadata": {},
   "outputs": [
    {
     "name": "stdout",
     "output_type": "stream",
     "text": [
      "Suma(10,20) --> None\n",
      "Suma(20,50) --> None\n",
      "Suma(80,200) --> None\n"
     ]
    }
   ],
   "source": [
    "def Suma(a,b):\n",
    "    c=a+b\n",
    "    return c\n",
    "\n",
    "print (\"Suma(10,20) -->\", Suma(10,20))\n",
    "print (\"Suma(20,50) -->\", Suma(20,-50)) \n",
    "print (\"Suma(80,200) -->\", Suma(80,20.7))"
   ]
  },
  {
   "cell_type": "markdown",
   "metadata": {},
   "source": [
    "### Ejercicio 5\n",
    "\n",
    "Utilizando diferentes clases en python, crea una calculadora con los operadores  básicos de suma, resta, multiplicación, división, y exponente."
   ]
  },
  {
   "cell_type": "code",
   "execution_count": 57,
   "metadata": {},
   "outputs": [
    {
     "name": "stdout",
     "output_type": "stream",
     "text": [
      "Ingrese un número: 5\n",
      "Ingrese un número: 0\n",
      "Ingrese la opción que desea: \n",
      " 1.-Sumar\n",
      " 2.-Restar\n",
      " 3.-Multiplicación\n",
      " 4.-División\n",
      " 5.-Exponente\n",
      " 0.-Salir\n",
      "3\n",
      "La multiplicación del número 5 y 0 es 0\n",
      "Ingrese la opción que desea: \n",
      " 1.-Sumar\n",
      " 2.-Restar\n",
      " 3.-Multiplicación\n",
      " 4.-División\n",
      " 5.-Exponente\n",
      " 0.-Salir\n",
      "4\n",
      "No se puede realizar la división\n",
      "Ingrese la opción que desea: \n",
      " 1.-Sumar\n",
      " 2.-Restar\n",
      " 3.-Multiplicación\n",
      " 4.-División\n",
      " 5.-Exponente\n",
      " 0.-Salir\n",
      "0\n",
      "Fin de la calculadora\n"
     ]
    }
   ],
   "source": [
    "def Suma(a,b):\n",
    "    s=a+b\n",
    "    return s\n",
    "\n",
    "def Resta(a,b):\n",
    "    r=a-b\n",
    "    return r\n",
    "    \n",
    "def Multiplicación(a,b):\n",
    "    m=a*b\n",
    "    return m\n",
    "    \n",
    "def División(a,b):\n",
    "    try:\n",
    "        d=a/b\n",
    "        return d\n",
    "    except:\n",
    "        return False\n",
    "\n",
    "def Exponente(a,b):\n",
    "    e=a**b\n",
    "    return e\n",
    "\n",
    "a=int(input(\"Ingrese un número: \"))\n",
    "b=int(input(\"Ingrese un número: \"))\n",
    "\n",
    "i=1\n",
    "while i!=0:\n",
    "    i=int(input(\"Ingrese la opción que desea: \\n 1.-Sumar\\n 2.-Restar\\n 3.-Multiplicación\\n 4.-División\\n 5.-Exponente\\n 0.-Salir\\n\"))\n",
    "    if i==1:\n",
    "        print(\"La suma del número %d y %d es %d\" %(a,b,Suma(a,b)))\n",
    "    elif i==2:\n",
    "        print(\"La resta del número %d y %d es %d\" %(a,b,Resta(a,b)))\n",
    "    elif i==3:\n",
    "        print(\"La multiplicación del número %d y %d es %d\" %(a,b,Multiplicación(a,b)))\n",
    "    elif i==4:\n",
    "        if División(a,b) is False:\n",
    "            print(\"No se puede realizar la división\")\n",
    "        else:\n",
    "            print(\"La división del número %d y %d es %f\"%(a,b,División(a,b)))\n",
    "    elif i==5:\n",
    "        print(\"La exponenciación del número %d a %d es %d\"%(a,b,Exponente(a,b)))\n",
    "    elif i==0:\n",
    "        print(\"Fin de la calculadora\")\n",
    "    else:\n",
    "        print(\"No se selecciono una opción válida, favor de seleccionar otra vez\")"
   ]
  },
  {
   "cell_type": "markdown",
   "metadata": {},
   "source": [
    "Funciones matemáticas en la librería de math en python:"
   ]
  },
  {
   "cell_type": "code",
   "execution_count": 13,
   "metadata": {},
   "outputs": [
    {
     "name": "stdout",
     "output_type": "stream",
     "text": [
      "Función exponencial -->  1.3838965267367376e-87\n",
      "Log -->  6.643856189774725\n",
      "Log  -->  2.0\n",
      "Log 10 -->  2.0\n",
      "Coseno -->  0.15425144988758405\n",
      "Seno -->  -0.9880316240928618\n",
      "Tangente -->  -6.4053311966462765\n",
      "Raiz cuadrada -->  18.0\n",
      "Valor techo -->  90\n",
      "Valor piso -->  89\n"
     ]
    }
   ],
   "source": [
    "import math as m\n",
    "\n",
    "print (\"Función exponencial --> \", m.exp(-200))  \n",
    "print (\"Log --> \", m.log(100,2)) # Log\n",
    "print (\"Log  --> \", m.log(100,10))# Log\n",
    "print (\"Log 10 --> \", m.log10(100)) # Log 10\n",
    "print (\"Coseno --> \", m.cos(30))    # cos\n",
    "print (\"Seno --> \", m.sin(30))    # sin\n",
    "print (\"Tangente --> \", m.tan(30))    # tan\n",
    "print (\"Raiz cuadrada --> \", m.sqrt(324)) #Raiz\n",
    "print (\"Valor techo --> \", m.ceil(89.9)) #Valor techo\n",
    "print (\"Valor piso --> \", m.floor(89.9)) #Valor piso"
   ]
  },
  {
   "cell_type": "markdown",
   "metadata": {},
   "source": [
    "Como utilizar variables de string como listas para buscar elementos:"
   ]
  },
  {
   "cell_type": "code",
   "execution_count": 14,
   "metadata": {},
   "outputs": [
    {
     "name": "stdout",
     "output_type": "stream",
     "text": [
      "var1 -->  Hola mundo!\n",
      "var2 -->  Programas de python\n",
      "var1[0] -->  H\n",
      "var2[1:5] -->  rogr\n",
      "var2[:-5] -->  Programas de p\n"
     ]
    }
   ],
   "source": [
    "var1 = 'Hola mundo!'\n",
    "var2 = \"Programas de python\"\n",
    " \n",
    "print (\"var1 --> \", var1)\n",
    "print (\"var2 --> \",var2)\n",
    "print (\"var1[0] --> \", var1[0])\n",
    "print (\"var2[1:5] --> \", var2[1:5])\n",
    "print (\"var2[:-5] --> \", var2[:-5])"
   ]
  },
  {
   "cell_type": "code",
   "execution_count": 15,
   "metadata": {},
   "outputs": [
    {
     "name": "stdout",
     "output_type": "stream",
     "text": [
      "var1 -->  Hola mundo!\n",
      "var2 -->  Programas de python\n",
      "\n",
      "Tamaño de var1 --> :  11\n",
      "Tamaño de var2 --> :  19\n",
      "\n",
      "Uppercase para var1 --> :  HOLA MUNDO!\n",
      "Upper case para var2 --> :  PROGRAMAS DE PYTHON\n",
      "\n",
      "Lower case para var1 --> :  hola mundo!\n",
      "Lower case para var2 --> :  programas de python\n"
     ]
    }
   ],
   "source": [
    "var1 = 'Hola mundo!'\n",
    "var2 = \"Programas de python\"\n",
    "\n",
    "print (\"var1 --> \", var1)\n",
    "print (\"var2 --> \",var2)\n",
    "\n",
    "print (\"\\nTamaño de var1 --> : \", len(var1))\n",
    "print (\"Tamaño de var2 --> : \", len(var2))\n",
    "\n",
    "print (\"\\nUppercase para var1 --> : \", var1.upper())\n",
    "print (\"Upper case para var2 --> : \", var2.upper())\n",
    "\n",
    "print (\"\\nLower case para var1 --> : \", var1.lower())\n",
    "print (\"Lower case para var2 --> : \", var2.lower())"
   ]
  },
  {
   "cell_type": "markdown",
   "metadata": {},
   "source": [
    "Con input del usuario, revisar como introducir valores de numeros, letras y flotantes dentro de un print:"
   ]
  },
  {
   "cell_type": "code",
   "execution_count": 16,
   "metadata": {},
   "outputs": [
    {
     "name": "stdout",
     "output_type": "stream",
     "text": [
      "Introduce tu nombre: Mayra\n",
      "Introduce tu edad: 25\n",
      "Precio de tu item: 56.78\n",
      "Tu nombre es MAYRA, edad es 25 y el precio de tu item es 56.780000\n"
     ]
    }
   ],
   "source": [
    "name=input(\"Introduce tu nombre: \")\n",
    "age=int(input(\"Introduce tu edad: \"))\n",
    "price=float(input(\"Precio de tu item: \"))\n",
    "s=\"Tu nombre es %s, edad es %d y el precio de tu item es %f\" %(name.upper(),age,price)\n",
    "print (s)"
   ]
  },
  {
   "cell_type": "markdown",
   "metadata": {},
   "source": [
    "Introducción para el manejo de errores en Python:"
   ]
  },
  {
   "cell_type": "code",
   "execution_count": 17,
   "metadata": {},
   "outputs": [
    {
     "name": "stdout",
     "output_type": "stream",
     "text": [
      "100/ -5  -->  -20.0\n",
      "100/ -4  -->  -25.0\n",
      "100/ -3  -->  -33.333333333333336\n",
      "100/ -2  -->  -50.0\n",
      "100/ -1  -->  -100.0\n"
     ]
    },
    {
     "ename": "ZeroDivisionError",
     "evalue": "division by zero",
     "output_type": "error",
     "traceback": [
      "\u001b[0;31m---------------------------------------------------------------------------\u001b[0m",
      "\u001b[0;31mZeroDivisionError\u001b[0m                         Traceback (most recent call last)",
      "\u001b[0;32m<ipython-input-17-62296f2c0744>\u001b[0m in \u001b[0;36m<module>\u001b[0;34m\u001b[0m\n\u001b[1;32m      1\u001b[0m \u001b[0;32mfor\u001b[0m \u001b[0mi\u001b[0m \u001b[0;32min\u001b[0m \u001b[0mrange\u001b[0m\u001b[0;34m(\u001b[0m\u001b[0;34m-\u001b[0m\u001b[0;36m5\u001b[0m\u001b[0;34m,\u001b[0m\u001b[0;36m6\u001b[0m\u001b[0;34m)\u001b[0m\u001b[0;34m:\u001b[0m\u001b[0;34m\u001b[0m\u001b[0;34m\u001b[0m\u001b[0m\n\u001b[0;32m----> 2\u001b[0;31m     \u001b[0mprint\u001b[0m \u001b[0;34m(\u001b[0m\u001b[0;34m\"100/\"\u001b[0m\u001b[0;34m,\u001b[0m\u001b[0mi\u001b[0m\u001b[0;34m,\u001b[0m\u001b[0;34m\" --> \"\u001b[0m\u001b[0;34m,\u001b[0m \u001b[0;36m100\u001b[0m\u001b[0;34m/\u001b[0m\u001b[0mi\u001b[0m\u001b[0;34m)\u001b[0m\u001b[0;34m\u001b[0m\u001b[0;34m\u001b[0m\u001b[0m\n\u001b[0m",
      "\u001b[0;31mZeroDivisionError\u001b[0m: division by zero"
     ]
    }
   ],
   "source": [
    "for i in range(-5,6):\n",
    "    print (\"100/\",i,\" --> \", 100/i)"
   ]
  },
  {
   "cell_type": "code",
   "execution_count": 18,
   "metadata": {},
   "outputs": [
    {
     "name": "stdout",
     "output_type": "stream",
     "text": [
      "100/ -5  -->  -20.0\n",
      "100/ -4  -->  -25.0\n",
      "100/ -3  -->  -33.333333333333336\n",
      "100/ -2  -->  -50.0\n",
      "100/ -1  -->  -100.0\n",
      "error\n",
      "100/ 1  -->  100.0\n",
      "100/ 2  -->  50.0\n",
      "100/ 3  -->  33.333333333333336\n",
      "100/ 4  -->  25.0\n",
      "100/ 5  -->  20.0\n"
     ]
    }
   ],
   "source": [
    "for i in range(-5,6):\n",
    "    try:\n",
    "        print (\"100/\",i,\" --> \", 100/i)\n",
    "    except:\n",
    "        print (\"error\")"
   ]
  },
  {
   "cell_type": "code",
   "execution_count": 19,
   "metadata": {},
   "outputs": [
    {
     "name": "stdout",
     "output_type": "stream",
     "text": [
      "Introduce el nombre del archivo: archivo\n"
     ]
    },
    {
     "ename": "FileNotFoundError",
     "evalue": "[Errno 2] No such file or directory: 'archivo'",
     "output_type": "error",
     "traceback": [
      "\u001b[0;31m---------------------------------------------------------------------------\u001b[0m",
      "\u001b[0;31mFileNotFoundError\u001b[0m                         Traceback (most recent call last)",
      "\u001b[0;32m<ipython-input-19-0516b617e37f>\u001b[0m in \u001b[0;36m<module>\u001b[0;34m\u001b[0m\n\u001b[1;32m      1\u001b[0m \u001b[0marchivo\u001b[0m\u001b[0;34m=\u001b[0m\u001b[0minput\u001b[0m\u001b[0;34m(\u001b[0m\u001b[0;34m\"Introduce el nombre del archivo: \"\u001b[0m\u001b[0;34m)\u001b[0m\u001b[0;34m\u001b[0m\u001b[0;34m\u001b[0m\u001b[0m\n\u001b[0;32m----> 2\u001b[0;31m \u001b[0mfp\u001b[0m\u001b[0;34m=\u001b[0m\u001b[0mopen\u001b[0m\u001b[0;34m(\u001b[0m\u001b[0marchivo\u001b[0m\u001b[0;34m)\u001b[0m\u001b[0;34m\u001b[0m\u001b[0;34m\u001b[0m\u001b[0m\n\u001b[0m\u001b[1;32m      3\u001b[0m \u001b[0mfp\u001b[0m\u001b[0;34m.\u001b[0m\u001b[0mclose\u001b[0m\u001b[0;34m(\u001b[0m\u001b[0;34m)\u001b[0m\u001b[0;34m\u001b[0m\u001b[0;34m\u001b[0m\u001b[0m\n\u001b[1;32m      4\u001b[0m \u001b[0mprint\u001b[0m \u001b[0;34m(\u001b[0m\u001b[0;34m\"Terminado\"\u001b[0m\u001b[0;34m)\u001b[0m\u001b[0;34m\u001b[0m\u001b[0;34m\u001b[0m\u001b[0m\n",
      "\u001b[0;31mFileNotFoundError\u001b[0m: [Errno 2] No such file or directory: 'archivo'"
     ]
    }
   ],
   "source": [
    "archivo=input(\"Introduce el nombre del archivo: \")\n",
    "fp=open(archivo)\n",
    "fp.close()\n",
    "print (\"Terminado\")"
   ]
  },
  {
   "cell_type": "code",
   "execution_count": 20,
   "metadata": {},
   "outputs": [
    {
     "name": "stdout",
     "output_type": "stream",
     "text": [
      "Introduce el nombre del archivo: archivp\n",
      "Error !! Archivo no encontrado\n",
      "Terminado\n"
     ]
    }
   ],
   "source": [
    "archivo=input(\"Introduce el nombre del archivo: \")\n",
    "try:\n",
    "    fp=open(archivo)\n",
    "    fp.close()\n",
    "except:\n",
    "    print (\"Error !! Archivo no encontrado\")\n",
    "\n",
    "print (\"Terminado\")"
   ]
  },
  {
   "cell_type": "code",
   "execution_count": 22,
   "metadata": {},
   "outputs": [
    {
     "name": "stdout",
     "output_type": "stream",
     "text": [
      "0  -->  1\n",
      "1  -->  2\n",
      "2  -->  3\n",
      "3  -->  4\n",
      "4  -->  5\n",
      "error\n",
      "error\n",
      "error\n"
     ]
    },
    {
     "data": {
      "text/plain": [
       "5"
      ]
     },
     "execution_count": 22,
     "metadata": {},
     "output_type": "execute_result"
    }
   ],
   "source": [
    "lista1 = [1,2,3,4,5]\n",
    "\n",
    "for i in range(8):\n",
    "    try:\n",
    "        print (i,\" --> \", lista1[i])\n",
    "    except:\n",
    "        print (\"error\")\n",
    "\n",
    "    \n",
    "len(lista1)"
   ]
  },
  {
   "cell_type": "code",
   "execution_count": 23,
   "metadata": {},
   "outputs": [
    {
     "name": "stdout",
     "output_type": "stream",
     "text": [
      "0 --> 1\n",
      "1 --> 2\n",
      "2 --> 3\n",
      "3 --> 4\n",
      "4 --> 5\n",
      "5 --> 6\n",
      "6 --> 7\n"
     ]
    }
   ],
   "source": [
    "lista1 = [1, 2, 3, 4, 5, 6, 7]\n",
    "\n",
    "for i in range(len(lista1)):\n",
    "    try:\n",
    "        print(i, \"-->\", lista1[i])\n",
    "    except:\n",
    "        print(\"Error\")"
   ]
  },
  {
   "cell_type": "markdown",
   "metadata": {},
   "source": [
    "Creación de numeros aleatorios en Python:"
   ]
  },
  {
   "cell_type": "code",
   "execution_count": 28,
   "metadata": {},
   "outputs": [
    {
     "name": "stdout",
     "output_type": "stream",
     "text": [
      "0.024191200103061195\n",
      "61\n",
      "3.9338566991210895\n",
      "[6, 7, 2, 10]\n"
     ]
    }
   ],
   "source": [
    "import random as r\n",
    "print (r.random())\n",
    "print (r.randint(1, 100))\n",
    "print (r.uniform(1, 100))\n",
    "\n",
    "A=[1, 2, 3, 4, 5, 6, 7, 8, 9, 10]\n",
    "print (r.sample(A, 4))\n"
   ]
  },
  {
   "cell_type": "markdown",
   "metadata": {},
   "source": [
    "## Ejercicios con estructuras básicas de python."
   ]
  },
  {
   "cell_type": "markdown",
   "metadata": {},
   "source": [
    "#### Tuplas\n",
    "\n",
    "- Crear una variable flotante, integer, boleana y compleja e imprimir el tipo de variable que es.\n",
    "\n",
    "- Crear una tupla con valores enteros imprimir el primer y ultimo valor.\n",
    "\n",
    "- Añadir 3 valores de string a la tupla.\n",
    "\n",
    "- Verificar si una variable existe dentro de la tupla.\n",
    "\n",
    "#### Listas\n",
    "\n",
    "- Crear una lista con 40 elementos aleatorios enteros.\n",
    "\n",
    "- Con una funcion (def) crear dos listas nuevas a partir de la lista creada por numeros aleatorios, en la cual en una esten los elementos pares, y en la otra los elementos impares.\n",
    "\n",
    "- Crear dos variables con la longitud de ambas listas nuevas e imprimir las variables.\n",
    "\n",
    "- Ordenar los elementos de la lista par de mayor a menor, y los de la lista impar de menor a mayor.\n",
    "\n",
    "- Utilizar al menos cuatro de las funciones de listas en python en la lista original de 40 elementos.\n",
    "\n",
    "#### Diccionarios\n",
    "\n",
    "- Crear un diccionario de 6 personas que conozcas con su primer nombre y su edad.\n",
    "\n",
    "- Crear una lista con los valores de la edad y reacomodar la lista de menor a mayor valor.\n",
    "\n",
    "- Usando el diccionario y un loop, imprimir solo los nombres.\n",
    "\n",
    "- Añadir dos personas nuevas a tu diccionario, incluyendo edad.\n",
    "\n",
    "#### Sets\n",
    "\n",
    "- Crea un set con 100 numeros aleatorios enteros del 1 al 25.\n",
    "\n",
    "- Comprueba la longitud de tu set.\n",
    "\n",
    "- Crea una lista de 5 numeros aleatorios del 1 al 10 y comprueba si cada valor aparece en el set inicial.\n"
   ]
  },
  {
   "cell_type": "markdown",
   "metadata": {},
   "source": [
    "Tuplas"
   ]
  },
  {
   "cell_type": "code",
   "execution_count": 55,
   "metadata": {},
   "outputs": [
    {
     "name": "stdout",
     "output_type": "stream",
     "text": [
      "<class 'float'>\n",
      "<class 'int'>\n",
      "<class 'bool'>\n",
      "<class 'complex'>\n"
     ]
    },
    {
     "data": {
      "text/plain": [
       "True"
      ]
     },
     "execution_count": 55,
     "metadata": {},
     "output_type": "execute_result"
    }
   ],
   "source": [
    "f=10/3\n",
    "i=10\n",
    "b=True\n",
    "c=5+2j\n",
    "print(type(f))\n",
    "print(type(i))\n",
    "print(type(b))\n",
    "print(type(c))\n",
    "\n",
    "tupla=(1,2,3,4,5)\n",
    "\n",
    "#como son inmutables se convierte en lista\n",
    "\n",
    "l=list(tupla)\n",
    "b=[\"Hola\",\"Mundo\",\"Espacio\"]\n",
    "l.extend(b)\n",
    "tupla=tuple(l)\n",
    "tupla\n",
    "\"Mundo\" in tupla"
   ]
  },
  {
   "cell_type": "markdown",
   "metadata": {},
   "source": [
    "Listas"
   ]
  },
  {
   "cell_type": "code",
   "execution_count": 34,
   "metadata": {},
   "outputs": [
    {
     "name": "stdout",
     "output_type": "stream",
     "text": [
      "40\n",
      "20\n",
      "20\n",
      "[96, 86, 82, 66, 66, 64, 62, 60, 58, 52, 44, 26, 24, 22, 18, 18, 16, 10, 10, 2]\n",
      "[1, 13, 23, 39, 45, 45, 49, 53, 53, 57, 65, 65, 69, 71, 79, 79, 83, 85, 93, 97]\n",
      "[1, 2, 10, 10, 13, 16, 18, 18, 22, 23, 24, 26, 39, 44, 45, 45, 49, 52, 53, 53, 57, 58, 60, 62, 64, 65, 65, 66, 66, 69, 71, 79, 79, 82, 83, 85, 86, 93, 96, 97]\n",
      "[1, 2, 10, 10, 13, 16, 18, 18, 22, 23, 24, 26, 39, 44, 45, 45, 49, 52, 53, 53, 57, 58, 60, 62, 64, 65, 65, 66, 66, 69, 71, 79, 79, 82, 83, 85, 86, 93, 96, 97, 6]\n",
      "[1, 2, 10, 10, 13, 16, 18, 18, 22, 23, 24, 26, 39, 44, 45, 45, 49, 52, 53, 53, 57, 58, 60, 62, 64, 65, 65, 66, 66, 69, 71, 79, 79, 82, 83, 85, 86, 93, 96, 97]\n",
      "[97, 96, 93, 86, 85, 83, 82, 79, 79, 71, 69, 66, 66, 65, 65, 64, 62, 60, 58, 57, 53, 53, 52, 49, 45, 45, 44, 39, 26, 24, 23, 22, 18, 18, 16, 13, 10, 10, 2, 1]\n"
     ]
    }
   ],
   "source": [
    "import random\n",
    "\n",
    "lista=[]\n",
    "for i in range(0,40):\n",
    "    lista.append(random.randint(1,100))\n",
    "    \n",
    "print(len(lista))\n",
    "\n",
    "def parimp(lista,parimp):\n",
    "    par=[]\n",
    "    impar=[]\n",
    "    for i in range(0,len(lista)):\n",
    "        if lista[i]%2 == 0:\n",
    "            par.append(lista[i])\n",
    "        else:\n",
    "            impar.append(lista[i])\n",
    "    if parimp==True:\n",
    "        return par\n",
    "    else:\n",
    "        return impar\n",
    "\n",
    "pares=parimp(lista,True)\n",
    "impares=parimp(lista,False)\n",
    "\n",
    "longpar=len(pares)\n",
    "print(longpar)\n",
    "longimpar=len(impares)\n",
    "print(longimpar)\n",
    "\n",
    "for i in range(len(pares)):\n",
    "    for j in range(0,len(pares)-i-1):\n",
    "        if pares[j]<pares[j+1]:\n",
    "            pares[j],pares[j+1]=pares[j+1],pares[j]\n",
    "print(pares)\n",
    "\n",
    "for i in range(len(impares)):\n",
    "    for j in range(0,len(impares)-i-1):\n",
    "        if impares[j]>impares[j+1]:\n",
    "            impares[j],impares[j+1]=impares[j+1],impares[j]\n",
    "print(impares)\n",
    "\n",
    "lista.sort()\n",
    "print(lista)\n",
    "lista.append(6)\n",
    "print(lista)\n",
    "lista.pop()\n",
    "print(lista)\n",
    "lista.reverse()\n",
    "print(lista)"
   ]
  },
  {
   "cell_type": "markdown",
   "metadata": {},
   "source": [
    "Diccionario"
   ]
  },
  {
   "cell_type": "code",
   "execution_count": 43,
   "metadata": {},
   "outputs": [
    {
     "name": "stdout",
     "output_type": "stream",
     "text": [
      "[20, 20, 20, 20, 20, 21]\n",
      "Zurizaday\n",
      "Vanessa\n",
      "Ricardo\n",
      "Paola\n",
      "Victor\n",
      "Sabina\n",
      "{'Zurizaday': 20, 'Vanessa': 20, 'Ricardo': 20, 'Paola': 21, 'Victor': 20, 'Sabina': 20, 'Noe': 20, 'Paty': 20}\n"
     ]
    }
   ],
   "source": [
    "Diccionario={\"Zurizaday\":20,\"Vanessa\":20,\"Ricardo\":20,\"Paola\":21,\"Victor\":20,\"Sabina\":20}\n",
    "Valores=list(Diccionario.values())\n",
    "Valores.sort()\n",
    "print(Valores)\n",
    "for i in Diccionario:\n",
    "    print(i)\n",
    "Diccionario[\"Noe\"]=20\n",
    "Diccionario[\"Paty\"]=20\n",
    "print(Diccionario)"
   ]
  },
  {
   "cell_type": "markdown",
   "metadata": {},
   "source": [
    "Sets"
   ]
  },
  {
   "cell_type": "code",
   "execution_count": 58,
   "metadata": {},
   "outputs": [
    {
     "name": "stdout",
     "output_type": "stream",
     "text": [
      "25\n",
      "Que el valor 9 esta en el set es True\n",
      "Que el valor 5 esta en el set es True\n",
      "Que el valor 8 esta en el set es True\n",
      "Que el valor 2 esta en el set es True\n",
      "Que el valor 6 esta en el set es True\n"
     ]
    }
   ],
   "source": [
    "import random\n",
    "Set=set()\n",
    "for i in range(0,100):\n",
    "    Set.add(random.randint(1,25))\n",
    "\n",
    "print(len(Set))\n",
    "\n",
    "listaran=[]\n",
    "for i in range(0,5):\n",
    "    listaran.append(random.randint(1,10))\n",
    "\n",
    "for i in range(0,len(listaran)):\n",
    "    print(\"Que el valor %d esta en el set es %s\"%(listaran[i],listaran[i] in Set))"
   ]
  }
 ],
 "metadata": {
  "kernelspec": {
   "display_name": "Python 3",
   "language": "python",
   "name": "python3"
  },
  "language_info": {
   "codemirror_mode": {
    "name": "ipython",
    "version": 3
   },
   "file_extension": ".py",
   "mimetype": "text/x-python",
   "name": "python",
   "nbconvert_exporter": "python",
   "pygments_lexer": "ipython3",
   "version": "3.8.3"
  }
 },
 "nbformat": 4,
 "nbformat_minor": 4
}
